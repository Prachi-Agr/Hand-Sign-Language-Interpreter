{
  "nbformat": 4,
  "nbformat_minor": 0,
  "metadata": {
    "colab": {
      "name": "Image generator ISL.ipynb",
      "provenance": [],
      "authorship_tag": "ABX9TyN05bf1f1PQ++0/3/16RS6U",
      "include_colab_link": true
    },
    "kernelspec": {
      "name": "python3",
      "display_name": "Python 3"
    }
  },
  "cells": [
    {
      "cell_type": "markdown",
      "metadata": {
        "id": "view-in-github",
        "colab_type": "text"
      },
      "source": [
        "<a href=\"https://colab.research.google.com/github/Prachi-Agr/Hand-Sign-Language-Interpreter/blob/master/Image_generator_ISL.ipynb\" target=\"_parent\"><img src=\"https://colab.research.google.com/assets/colab-badge.svg\" alt=\"Open In Colab\"/></a>"
      ]
    },
    {
      "cell_type": "code",
      "metadata": {
        "id": "YIHUqumpD4iN",
        "colab_type": "code",
        "colab": {}
      },
      "source": [
        "import numpy as np\n",
        "from keras.preprocessing.image import load_img\n",
        "from keras.preprocessing.image import img_to_array\n",
        "from keras.preprocessing.image import ImageDataGenerator\n",
        "from matplotlib import pyplot\n",
        "\n",
        "import cv2\n",
        "import os\n",
        "\n",
        "def createGenerator(img,folder,filename):\n",
        "    data=img_to_array(img)\n",
        "    samples=np.expand_dims(data,0)\n",
        "    datagen=ImageDataGenerator(width_shift_range=[-500,500],rescale=1.,featurewise_center=False,rotation_range=0.0,height_shift_range=[300,400],)\n",
        "    # prepare iterator\n",
        "    it = datagen.flow(samples, batch_size=1)\n",
        "    # generate samples and plot\n",
        "    for i in range(56):\n",
        "\t    # define subplot\n",
        "      if(i%10!=0):\n",
        "        #pyplot.subplot(330 + i)\n",
        "        # generate batch of images\n",
        "        batch = it.next()\n",
        "        # convert to unsigned integers for viewing\n",
        "        image = batch[0].astype('uint8')\n",
        "        # plot raw pixel data\n",
        "        #pyplot.imshow(image)\n",
        "        cv2.imwrite(os.path.join(folder,filename[:-4]+'_G'+str(i)+'.jpg'),image)\n",
        "        print('Gangen:'+str(i))\n",
        "    # show the figure\n",
        "    #pyplot.show()\n",
        "    return\n",
        "\n",
        "def load_images_from_folder(folder):\n",
        "    for filename in os.listdir(folder):\n",
        "        img = cv2.imread(os.path.join(folder,filename))\n",
        "        if img is not None:\n",
        "          print(filename)\n",
        "          createGenerator(img,folder,filename)\n",
        "          #cv2.imwrite(os.path.join(folder,filename[:-4]+'*.jpg'),img)\n",
        "    return str(1)\n",
        "\n",
        "\n",
        "#load_images_from_folder('/content/drive/My Drive/ISL Dataset/A')\n",
        "#load_images_from_folder('/content/drive/My Drive/ISL Dataset/B')\n",
        "#load_images_from_folder('/content/drive/My Drive/ISL Dataset/C')\n",
        "#load_images_from_folder('/content/drive/My Drive/ISL Dataset/D')\n",
        "#load_images_from_folder('/content/drive/My Drive/ISL Dataset/E')\n",
        "#load_images_from_folder('/content/drive/My Drive/ISL Dataset/F')"
      ],
      "execution_count": 0,
      "outputs": []
    }
  ]
}